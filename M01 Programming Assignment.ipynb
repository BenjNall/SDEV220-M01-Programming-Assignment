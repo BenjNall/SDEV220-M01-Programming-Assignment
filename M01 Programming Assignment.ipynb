{
 "cells": [
  {
   "cell_type": "code",
   "execution_count": 4,
   "id": "3f5aaef6-9c7e-4e66-b863-ef74ebf1f029",
   "metadata": {},
   "outputs": [
    {
     "name": "stdout",
     "output_type": "stream",
     "text": [
      "Number of seconds per hour:  60\n"
     ]
    }
   ],
   "source": [
    "spm = 60\n",
    "mph = 60\n",
    "sph = spm * mph\n",
    "print (\"Number of seconds per hour: \", mph)"
   ]
  },
  {
   "cell_type": "code",
   "execution_count": 5,
   "id": "6147f52f-f62d-4f4f-806e-b39705279aca",
   "metadata": {},
   "outputs": [
    {
     "name": "stdout",
     "output_type": "stream",
     "text": [
      "Seconds per Hour 3600\n"
     ]
    }
   ],
   "source": [
    "seconds_per_hour = sph\n",
    "print (\"Seconds per Hour\", seconds_per_hour)"
   ]
  },
  {
   "cell_type": "code",
   "execution_count": 6,
   "id": "1dad2a83-2d02-472c-b4de-dd7fe0b37690",
   "metadata": {},
   "outputs": [
    {
     "name": "stdout",
     "output_type": "stream",
     "text": [
      "Seconds per Day:  86400\n"
     ]
    }
   ],
   "source": [
    "hpd = 24\n",
    "spd = seconds_per_hour * hpd\n",
    "print (\"Seconds per Day: \", spd)"
   ]
  },
  {
   "cell_type": "code",
   "execution_count": 7,
   "id": "55d47723-8089-4460-bb4f-683b2ece123e",
   "metadata": {},
   "outputs": [
    {
     "name": "stdout",
     "output_type": "stream",
     "text": [
      "Seconds per Day:  86400\n"
     ]
    }
   ],
   "source": [
    "seconds_per_day = spd\n",
    "print(\"Seconds per Day: \", seconds_per_day)"
   ]
  },
  {
   "cell_type": "code",
   "execution_count": 8,
   "id": "b61bacad-571b-4232-9bb9-1c9d86f0dd15",
   "metadata": {},
   "outputs": [
    {
     "name": "stdout",
     "output_type": "stream",
     "text": [
      "Minutes per day:  24.0\n"
     ]
    }
   ],
   "source": [
    "hpdF = (seconds_per_day / seconds_per_hour)\n",
    "print(\"Hours per day: \", hpdF)"
   ]
  },
  {
   "cell_type": "code",
   "execution_count": 9,
   "id": "c31beb9c-c75e-4efd-9fb8-e7b4448c9b6f",
   "metadata": {},
   "outputs": [
    {
     "name": "stdout",
     "output_type": "stream",
     "text": [
      "Hours per day:  24\n"
     ]
    }
   ],
   "source": [
    "hpdI = (seconds_per_day // seconds_per_hour)\n",
    "print(\"Hours per day: \", hpdI)\n",
    "# Yes, the Hours per day as a float (hpdF) and the hours per day as an int (hpdI) agree with each other (ignoring the trailing .0)\n",
    "# this is because 86400 is evenly divided into 3600, there is no remainder."
   ]
  }
 ],
 "metadata": {
  "kernelspec": {
   "display_name": "Python 3 (ipykernel)",
   "language": "python",
   "name": "python3"
  },
  "language_info": {
   "codemirror_mode": {
    "name": "ipython",
    "version": 3
   },
   "file_extension": ".py",
   "mimetype": "text/x-python",
   "name": "python",
   "nbconvert_exporter": "python",
   "pygments_lexer": "ipython3",
   "version": "3.12.4"
  }
 },
 "nbformat": 4,
 "nbformat_minor": 5
}
